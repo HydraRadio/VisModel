{
 "cells": [
  {
   "cell_type": "code",
   "execution_count": 109,
   "id": "506f21f1",
   "metadata": {},
   "outputs": [
    {
     "name": "stdout",
     "output_type": "stream",
     "text": [
      "Unable to import healpy and/or healvis; diffuse mode unavailable\n"
     ]
    }
   ],
   "source": [
    "from mpi4py import MPI\n",
    "import numpy as np\n",
    "import pylab as plt\n",
    "\n",
    "import uvtools\n",
    "import hera_cal as hc\n",
    "import pyuvdata\n",
    "from pyuvdata import UVData\n",
    "from pyuvsim import BeamList\n",
    "\n",
    "from hera_sim.visibilities import ModelData\n",
    "from hera_sim import Simulator\n",
    "from hera_sim.beams import PolyBeam, PerturbedPolyBeam, ZernikeBeam\n",
    "\n",
    "# import ultranest\n",
    "\n",
    "try:\n",
    "    import healpy\n",
    "    import healvis\n",
    "except:\n",
    "    print(\"Unable to import healpy and/or healvis; diffuse mode unavailable\")\n",
    "\n",
    "from VisModel import utils\n",
    "import time, copy, sys\n",
    "from numba import jit\n",
    "import astropy\n",
    "from pyradiosky import SkyModel\n",
    "from scipy.linalg import cholesky, expm, sqrtm, eig\n",
    "from scipy.sparse.linalg import cg\n",
    "from astropy.time import Time\n",
    "from scipy.interpolate import interp1d\n",
    "from scipy.integrate import cumtrapz\n",
    "from scipy.special import jv\n",
    "\n",
    "import warnings\n",
    "import os\n",
    "\n",
    "# Begin MPI\n",
    "#if use_mpi:\n",
    "#    comm = MPI.COMM_WORLD\n",
    "#    myid = comm.Get_rank()\n",
    "#else:\n",
    "#    comm = None\n",
    "#    myid = 0"
   ]
  },
  {
   "cell_type": "code",
   "execution_count": 2,
   "id": "37a59f41",
   "metadata": {},
   "outputs": [],
   "source": [
    "def zernike(coeffs, x, y):\n",
    "        \"\"\"\n",
    "        Zernike polynomials (up to degree 66) on the unit disc.\n",
    "        This code was adapted from:\n",
    "        https://gitlab.nrao.edu/pjaganna/zcpb/-/blob/master/zernikeAperture.py\n",
    "        Parameters\n",
    "        ----------\n",
    "        coeffs : array_like\n",
    "            Array of real coefficients of the Zernike polynomials, from 0..66.\n",
    "        x, y : array_like\n",
    "            Points on the unit disc.\n",
    "        Returns\n",
    "        -------\n",
    "        zernike : array_like\n",
    "            Values of the Zernike polynomial at the input x,y points.\n",
    "        \"\"\"\n",
    "        # Coefficients\n",
    "        assert len(coeffs) <= 66, \"Max. number of coeffs is 66.\"\n",
    "        c = np.zeros(66)\n",
    "        c[: len(coeffs)] += coeffs\n",
    "\n",
    "        # Precompute powers of x and y\n",
    "        x2, x3, x4, x5, x6, x7, x8, x9, x10 = tuple(x ** idx for idx in range(2, 11))\n",
    "        y2, y3, y4, y5, y6, y7, y8, y9, y10 = tuple(y ** idx for idx in range(2, 11))\n",
    "\n",
    "        # Setting the equations for the Zernike polynomials\n",
    "        # r = np.sqrt(powl(x,2) + powl(y,2))\n",
    "        Z = {\n",
    "            1: c[0] * np.ones(len(x)),  # m = 0    n = 0\n",
    "            2: c[1] * x,  # m = -1   n = 1\n",
    "            3: c[2] * y,  # m = 1    n = 1\n",
    "            4: c[3] * 2 * x * y,  # m = -2   n = 2\n",
    "            5: c[4] * (2 * x2 + 2 * y2 - 1),  # m = 0  n = 2\n",
    "            6: c[5] * (-1 * x2 + y2),  # m = 2  n = 2\n",
    "            7: c[6] * (-1 * x3 + 3 * x * y2),  # m = -3     n = 3\n",
    "            8: c[7] * (-2 * x + 3 * (x3) + 3 * x * (y2)),  # m = -1   n = 3\n",
    "            9: c[8] * (-2 * y + 3 * y3 + 3 * (x2) * y),  # m = 1    n = 3\n",
    "            10: c[9] * (y3 - 3 * (x2) * y),  # m = 3 n =3\n",
    "            11: c[10] * (-4 * (x3) * y + 4 * x * (y3)),  # m = -4    n = 4\n",
    "            12: c[11] * (-6 * x * y + 8 * (x3) * y + 8 * x * (y3)),  # m = -2   n = 4\n",
    "            13: c[12]\n",
    "            * (\n",
    "                1 - 6 * x2 - 6 * y2 + 6 * x4 + 12 * (x2) * (y2) + 6 * y4\n",
    "            ),  # m = 0  n = 4\n",
    "            14: c[13] * (3 * x2 - 3 * y2 - 4 * x4 + 4 * y4),  # m = 2    n = 4\n",
    "            15: c[14] * (x4 - 6 * (x2) * (y2) + y4),  # m = 4   n = 4\n",
    "            16: c[15] * (x5 - 10 * (x3) * y2 + 5 * x * (y4)),  # m = -5   n = 5\n",
    "            17: c[16]\n",
    "            * (\n",
    "                4 * x3 - 12 * x * (y2) - 5 * x5 + 10 * (x3) * (y2) + 15 * x * y4\n",
    "            ),  # m =-3     n = 5\n",
    "            18: c[17]\n",
    "            * (\n",
    "                3 * x\n",
    "                - 12 * x3\n",
    "                - 12 * x * (y2)\n",
    "                + 10 * x5\n",
    "                + 20 * (x3) * (y2)\n",
    "                + 10 * x * (y4)\n",
    "            ),  # m= -1  n = 5\n",
    "            19: c[18]\n",
    "            * (\n",
    "                3 * y\n",
    "                - 12 * y3\n",
    "                - 12 * y * (x2)\n",
    "                + 10 * y5\n",
    "                + 20 * (y3) * (x2)\n",
    "                + 10 * y * (x4)\n",
    "            ),  # m = 1  n = 5\n",
    "            20: c[19]\n",
    "            * (\n",
    "                -4 * y3 + 12 * y * (x2) + 5 * y5 - 10 * (y3) * (x2) - 15 * y * x4\n",
    "            ),  # m = 3   n = 5\n",
    "            21: c[20] * (y5 - 10 * (y3) * x2 + 5 * y * (x4)),  # m = 5 n = 5\n",
    "            22: c[21]\n",
    "            * (6 * (x5) * y - 20 * (x3) * (y3) + 6 * x * (y5)),  # m = -6 n = 6\n",
    "            23: c[22]\n",
    "            * (\n",
    "                20 * (x3) * y - 20 * x * (y3) - 24 * (x5) * y + 24 * x * (y5)\n",
    "            ),  # m = -4   n = 6\n",
    "            24: c[23]\n",
    "            * (\n",
    "                12 * x * y\n",
    "                + 40 * (x3) * y\n",
    "                - 40 * x * (y3)\n",
    "                + 30 * (x5) * y\n",
    "                + 60 * (x3) * (y3)\n",
    "                - 30 * x * (y5)\n",
    "            ),  # m = -2   n = 6\n",
    "            25: c[24]\n",
    "            * (\n",
    "                -1\n",
    "                + 12 * (x2)\n",
    "                + 12 * (y2)\n",
    "                - 30 * (x4)\n",
    "                - 60 * (x2) * (y2)\n",
    "                - 30 * (y4)\n",
    "                + 20 * (x6)\n",
    "                + 60 * (x4) * y2\n",
    "                + 60 * (x2) * (y4)\n",
    "                + 20 * (y6)\n",
    "            ),  # m = 0   n = 6\n",
    "            26: c[25]\n",
    "            * (\n",
    "                -6 * (x2)\n",
    "                + 6 * (y2)\n",
    "                + 20 * (x4)\n",
    "                - 20 * (y4)\n",
    "                - 15 * (x6)\n",
    "                - 15 * (x4) * (y2)\n",
    "                + 15 * (x2) * (y4)\n",
    "                + 15 * (y6)\n",
    "            ),  # m = 2   n = 6\n",
    "            27: c[26]\n",
    "            * (\n",
    "                -5 * (x4)\n",
    "                + 30 * (x2) * (y2)\n",
    "                - 5 * (y4)\n",
    "                + 6 * (x6)\n",
    "                - 30 * (x4) * y2\n",
    "                - 30 * (x2) * (y4)\n",
    "                + 6 * (y6)\n",
    "            ),  # m = 4    n = 6\n",
    "            28: c[27]\n",
    "            * (-1 * (x6) + 15 * (x4) * (y2) - 15 * (x2) * (y4) + y6),  # m = 6   n = 6\n",
    "            29: c[28]\n",
    "            * (\n",
    "                -1 * (x7) + 21 * (x5) * (y2) - 35 * (x3) * (y4) + 7 * x * (y6)\n",
    "            ),  # m = -7    n = 7\n",
    "            30: c[29]\n",
    "            * (\n",
    "                -6 * (x5)\n",
    "                + 60 * (x3) * (y2)\n",
    "                - 30 * x * (y4)\n",
    "                + 7 * x7\n",
    "                - 63 * (x5) * (y2)\n",
    "                - 35 * (x3) * (y4)\n",
    "                + 35 * x * (y6)\n",
    "            ),  # m = -5    n = 7\n",
    "            31: c[30]\n",
    "            * (\n",
    "                -10 * (x3)\n",
    "                + 30 * x * (y2)\n",
    "                + 30 * x5\n",
    "                - 60 * (x3) * (y2)\n",
    "                - 90 * x * (y4)\n",
    "                - 21 * x7\n",
    "                + 21 * (x5) * (y2)\n",
    "                + 105 * (x3) * (y4)\n",
    "                + 63 * x * (y6)\n",
    "            ),  # m =-3       n = 7\n",
    "            32: c[31]\n",
    "            * (\n",
    "                -4 * x\n",
    "                + 30 * x3\n",
    "                + 30 * x * (y2)\n",
    "                - 60 * (x5)\n",
    "                - 120 * (x3) * (y2)\n",
    "                - 60 * x * (y4)\n",
    "                + 35 * x7\n",
    "                + 105 * (x5) * (y2)\n",
    "                + 105 * (x3) * (y4)\n",
    "                + 35 * x * (y6)\n",
    "            ),  # m = -1  n = 7\n",
    "            33: c[32]\n",
    "            * (\n",
    "                -4 * y\n",
    "                + 30 * y3\n",
    "                + 30 * y * (x2)\n",
    "                - 60 * (y5)\n",
    "                - 120 * (y3) * (x2)\n",
    "                - 60 * y * (x4)\n",
    "                + 35 * y7\n",
    "                + 105 * (y5) * (x2)\n",
    "                + 105 * (y3) * (x4)\n",
    "                + 35 * y * (x6)\n",
    "            ),  # m = 1   n = 7\n",
    "            34: c[33]\n",
    "            * (\n",
    "                10 * (y3)\n",
    "                - 30 * y * (x2)\n",
    "                - 30 * y5\n",
    "                + 60 * (y3) * (x2)\n",
    "                + 90 * y * (x4)\n",
    "                + 21 * y7\n",
    "                - 21 * (y5) * (x2)\n",
    "                - 105 * (y3) * (x4)\n",
    "                - 63 * y * (x6)\n",
    "            ),  # m =3     n = 7\n",
    "            35: c[34]\n",
    "            * (\n",
    "                -6 * (y5)\n",
    "                + 60 * (y3) * (x2)\n",
    "                - 30 * y * (x4)\n",
    "                + 7 * y7\n",
    "                - 63 * (y5) * (x2)\n",
    "                - 35 * (y3) * (x4)\n",
    "                + 35 * y * (x6)\n",
    "            ),  # m = 5  n = 7\n",
    "            36: c[35]\n",
    "            * (y7 - 21 * (y5) * (x2) + 35 * (y3) * (x4) - 7 * y * (x6)),  # m = 7  n = 7\n",
    "            37: c[36]\n",
    "            * (\n",
    "                -8 * (x7) * y + 56 * (x5) * (y3) - 56 * (x3) * (y5) + 8 * x * (y7)\n",
    "            ),  # m = -8  n = 8\n",
    "            38: c[37]\n",
    "            * (\n",
    "                -42 * (x5) * y\n",
    "                + 140 * (x3) * (y3)\n",
    "                - 42 * x * (y5)\n",
    "                + 48 * (x7) * y\n",
    "                - 112 * (x5) * (y3)\n",
    "                - 112 * (x3) * (y5)\n",
    "                + 48 * x * (y7)\n",
    "            ),  # m = -6  n = 8\n",
    "            39: c[38]\n",
    "            * (\n",
    "                -60 * (x3) * y\n",
    "                + 60 * x * (y3)\n",
    "                + 168 * (x5) * y\n",
    "                - 168 * x * (y5)\n",
    "                - 112 * (x7) * y\n",
    "                - 112 * (x5) * (y3)\n",
    "                + 112 * (x3) * (y5)\n",
    "                + 112 * x * (y7)\n",
    "            ),  # m = -4   n = 8\n",
    "            40: c[39]\n",
    "            * (\n",
    "                -20 * x * y\n",
    "                + 120 * (x3) * y\n",
    "                + 120 * x * (y3)\n",
    "                - 210 * (x5) * y\n",
    "                - 420 * (x3) * (y3)\n",
    "                - 210 * x * (y5)\n",
    "                - 112 * (x7) * y\n",
    "                + 336 * (x5) * (y3)\n",
    "                + 336 * (x3) * (y5)\n",
    "                + 112 * x * (y7)\n",
    "            ),  # m = -2   n = 8\n",
    "            41: c[40]\n",
    "            * (\n",
    "                1\n",
    "                - 20 * x2\n",
    "                - 20 * y2\n",
    "                + 90 * x4\n",
    "                + 180 * (x2) * (y2)\n",
    "                + 90 * y4\n",
    "                - 140 * x6\n",
    "                - 420 * (x4) * (y2)\n",
    "                - 420 * (x2) * (y4)\n",
    "                - 140 * (y6)\n",
    "                + 70 * x8\n",
    "                + 280 * (x6) * (y2)\n",
    "                + 420 * (x4) * (y4)\n",
    "                + 280 * (x2) * (y6)\n",
    "                + 70 * y8\n",
    "            ),  # m = 0    n = 8\n",
    "            42: c[41]\n",
    "            * (\n",
    "                10 * x2\n",
    "                - 10 * y2\n",
    "                - 60 * x4\n",
    "                + 105 * (x4) * (y2)\n",
    "                - 105 * (x2) * (y4)\n",
    "                + 60 * y4\n",
    "                + 105 * x6\n",
    "                - 105 * y6\n",
    "                - 56 * x8\n",
    "                - 112 * (x6) * (y2)\n",
    "                + 112 * (x2) * (y6)\n",
    "                + 56 * y8\n",
    "            ),  # m = 2  n = 8\n",
    "            43: c[42]\n",
    "            * (\n",
    "                15 * x4\n",
    "                - 90 * (x2) * (y2)\n",
    "                + 15 * y4\n",
    "                - 42 * x6\n",
    "                + 210 * (x4) * (y2)\n",
    "                + 210 * (x2) * (y4)\n",
    "                - 42 * y6\n",
    "                + 28 * x8\n",
    "                - 112 * (x6) * (y2)\n",
    "                - 280 * (x4) * (y4)\n",
    "                - 112 * (x2) * (y6)\n",
    "                + 28 * y8\n",
    "            ),  # m = 4     n = 8\n",
    "            44: c[43]\n",
    "            * (\n",
    "                7 * x6\n",
    "                - 105 * (x4) * (y2)\n",
    "                + 105 * (x2) * (y4)\n",
    "                - 7 * y6\n",
    "                - 8 * x8\n",
    "                + 112 * (x6) * (y2)\n",
    "                - 112 * (x2) * (y6)\n",
    "                + 8 * y8\n",
    "            ),  # m = 6    n = 8\n",
    "            45: c[44]\n",
    "            * (\n",
    "                x8 - 28 * (x6) * (y2) + 70 * (x4) * (y4) - 28 * (x2) * (y6) + y8\n",
    "            ),  # m = 8     n = 9\n",
    "            46: c[45]\n",
    "            * (\n",
    "                x9\n",
    "                - 36 * (x7) * (y2)\n",
    "                + 126 * (x5) * (y4)\n",
    "                - 84 * (x3) * (y6)\n",
    "                + 9 * x * (y8)\n",
    "            ),  # m = -9     n = 9\n",
    "            47: c[46]\n",
    "            * (\n",
    "                8 * x7\n",
    "                - 168 * (x5) * (y2)\n",
    "                + 280 * (x3) * (y4)\n",
    "                - 56 * x * (y6)\n",
    "                - 9 * x9\n",
    "                + 180 * (x7) * (y2)\n",
    "                - 126 * (x5) * (y4)\n",
    "                - 252 * (x3) * (y6)\n",
    "                + 63 * x * (y8)\n",
    "            ),  # m = -7    n = 9\n",
    "            48: c[47]\n",
    "            * (\n",
    "                21 * x5\n",
    "                - 210 * (x3) * (y2)\n",
    "                + 105 * x * (y4)\n",
    "                - 56 * x7\n",
    "                + 504 * (x5) * (y2)\n",
    "                + 280 * (x3) * (y4)\n",
    "                - 280 * x * (y6)\n",
    "                + 36 * x9\n",
    "                - 288 * (x7) * (y2)\n",
    "                - 504 * (x5) * (y4)\n",
    "                + 180 * x * (y8)\n",
    "            ),  # m = -5    n = 9\n",
    "            49: c[48]\n",
    "            * (\n",
    "                20 * x3\n",
    "                - 60 * x * (y2)\n",
    "                - 105 * x5\n",
    "                + 210 * (x3) * (y2)\n",
    "                + 315 * x * (y4)\n",
    "                + 168 * x7\n",
    "                - 168 * (x5) * (y2)\n",
    "                - 840 * (x3) * (y4)\n",
    "                - 504 * x * (y6)\n",
    "                - 84 * x9\n",
    "                + 504 * (x5) * (y4)\n",
    "                + 672 * (x3) * (y6)\n",
    "                + 252 * x * (y8)\n",
    "            ),  # m = -3  n = 9\n",
    "            50: c[49]\n",
    "            * (\n",
    "                5 * x\n",
    "                - 60 * x3\n",
    "                - 60 * x * (y2)\n",
    "                + 210 * x5\n",
    "                + 420 * (x3) * (y2)\n",
    "                + 210 * x * (y4)\n",
    "                - 280 * x7\n",
    "                - 840 * (x5) * (y2)\n",
    "                - 840 * (x3) * (y4)\n",
    "                - 280 * x * (y6)\n",
    "                + 126 * x9\n",
    "                + 504 * (x7) * (y2)\n",
    "                + 756 * (x5) * (y4)\n",
    "                + 504 * (x3) * (y6)\n",
    "                + 126 * x * (y8)\n",
    "            ),  # m = -1   n = 9\n",
    "            51: c[50]\n",
    "            * (\n",
    "                5 * y\n",
    "                - 60 * y3\n",
    "                - 60 * y * (x2)\n",
    "                + 210 * y5\n",
    "                + 420 * (y3) * (x2)\n",
    "                + 210 * y * (x4)\n",
    "                - 280 * y7\n",
    "                - 840 * (y5) * (x2)\n",
    "                - 840 * (y3) * (x4)\n",
    "                - 280 * y * (x6)\n",
    "                + 126 * y9\n",
    "                + 504 * (y7) * (x2)\n",
    "                + 756 * (y5) * (x4)\n",
    "                + 504 * (y3) * (x6)\n",
    "                + 126 * y * (x8)\n",
    "            ),  # m = -1   n = 9\n",
    "            52: c[51]\n",
    "            * (\n",
    "                -20 * y3\n",
    "                + 60 * y * (x2)\n",
    "                + 105 * y5\n",
    "                - 210 * (y3) * (x2)\n",
    "                - 315 * y * (x4)\n",
    "                - 168 * y7\n",
    "                + 168 * (y5) * (x2)\n",
    "                + 840 * (y3) * (x4)\n",
    "                + 504 * y * (x6)\n",
    "                + 84 * y9\n",
    "                - 504 * (y5) * (x4)\n",
    "                - 672 * (y3) * (x6)\n",
    "                - 252 * y * (x8)\n",
    "            ),  # m = 3  n = 9\n",
    "            53: c[52]\n",
    "            * (\n",
    "                21 * y5\n",
    "                - 210 * (y3) * (x2)\n",
    "                + 105 * y * (x4)\n",
    "                - 56 * y7\n",
    "                + 504 * (y5) * (x2)\n",
    "                + 280 * (y3) * (x4)\n",
    "                - 280 * y * (x6)\n",
    "                + 36 * y9\n",
    "                - 288 * (y7) * (x2)\n",
    "                - 504 * (y5) * (x4)\n",
    "                + 180 * y * (x8)\n",
    "            ),  # m = 5     n = 9\n",
    "            54: c[53]\n",
    "            * (\n",
    "                -8 * y7\n",
    "                + 168 * (y5) * (x2)\n",
    "                - 280 * (y3) * (x4)\n",
    "                + 56 * y * (x6)\n",
    "                + 9 * y9\n",
    "                - 180 * (y7) * (x2)\n",
    "                + 126 * (y5) * (x4)\n",
    "                - 252 * (y3) * (x6)\n",
    "                - 63 * y * (x8)\n",
    "            ),  # m = 7     n = 9\n",
    "            55: c[54]\n",
    "            * (\n",
    "                y9\n",
    "                - 36 * (y7) * (x2)\n",
    "                + 126 * (y5) * (x4)\n",
    "                - 84 * (y3) * (x6)\n",
    "                + 9 * y * (x8)\n",
    "            ),  # m = 9       n = 9\n",
    "            56: c[55]\n",
    "            * (\n",
    "                10 * (x9) * y\n",
    "                - 120 * (x7) * (y3)\n",
    "                + 252 * (x5) * (y5)\n",
    "                - 120 * (x3) * (y7)\n",
    "                + 10 * x * (y9)\n",
    "            ),  # m = -10   n = 10\n",
    "            57: c[56]\n",
    "            * (\n",
    "                72 * (x7) * y\n",
    "                - 504 * (x5) * (y3)\n",
    "                + 504 * (x3) * (y5)\n",
    "                - 72 * x * (y7)\n",
    "                - 80 * (x9) * y\n",
    "                + 480 * (x7) * (y3)\n",
    "                - 480 * (x3) * (y7)\n",
    "                + 80 * x * (y9)\n",
    "            ),  # m = -8    n = 10\n",
    "            58: c[57]\n",
    "            * (\n",
    "                270 * (x9) * y\n",
    "                - 360 * (x7) * (y3)\n",
    "                - 1260 * (x5) * (y5)\n",
    "                - 360 * (x3) * (y7)\n",
    "                + 270 * x * (y9)\n",
    "                - 432 * (x7) * y\n",
    "                + 1008 * (x5) * (y3)\n",
    "                + 1008 * (x3) * (y5)\n",
    "                - 432 * x * (y7)\n",
    "                + 168 * (x5) * y\n",
    "                - 560 * (x3) * (y3)\n",
    "                + 168 * x * (y5)\n",
    "            ),  # m = -6   n = 10\n",
    "            59: c[58]\n",
    "            * (\n",
    "                140 * (x3) * y\n",
    "                - 140 * x * (y3)\n",
    "                - 672 * (x5) * y\n",
    "                + 672 * x * (y5)\n",
    "                + 1008 * (x7) * y\n",
    "                + 1008 * (x5) * (y3)\n",
    "                - 1008 * (x3) * (y5)\n",
    "                - 1008 * x * (y7)\n",
    "                - 480 * (x9) * y\n",
    "                - 960 * (x7) * (y3)\n",
    "                + 960 * (x3) * (y7)\n",
    "                + 480 * x * (y9)\n",
    "            ),  # m = -4   n = 10\n",
    "            60: c[59]\n",
    "            * (\n",
    "                30 * x * y\n",
    "                - 280 * (x3) * y\n",
    "                - 280 * x * (y3)\n",
    "                + 840 * (x5) * y\n",
    "                + 1680 * (x3) * (y3)\n",
    "                + 840 * x * (y5)\n",
    "                - 1008 * (x7) * y\n",
    "                - 3024 * (x5) * (y3)\n",
    "                - 3024 * (x3) * (y5)\n",
    "                - 1008 * x * (y7)\n",
    "                + 420 * (x9) * y\n",
    "                + 1680 * (x7) * (y3)\n",
    "                + 2520 * (x5) * (y5)\n",
    "                + 1680 * (x3) * (y7)\n",
    "                + 420 * x * (y9)\n",
    "            ),  # m = -2   n = 10\n",
    "            61: c[60]\n",
    "            * (\n",
    "                -1\n",
    "                + 30 * x2\n",
    "                + 30 * y2\n",
    "                - 210 * x4\n",
    "                - 420 * (x2) * (y2)\n",
    "                - 210 * y4\n",
    "                + 560 * x6\n",
    "                + 1680 * (x4) * (y2)\n",
    "                + 1680 * (x2) * (y4)\n",
    "                + 560 * y6\n",
    "                - 630 * x8\n",
    "                - 2520 * (x6) * (y2)\n",
    "                - 3780 * (x4) * (y4)\n",
    "                - 2520 * (x2) * (y6)\n",
    "                - 630 * y8\n",
    "                + 252 * x10\n",
    "                + 1260 * (x8) * (y2)\n",
    "                + 2520 * (x6) * (y4)\n",
    "                + 2520 * (x4) * (y6)\n",
    "                + 1260 * (x2) * (y8)\n",
    "                + 252 * y10\n",
    "            ),  # m = 0    n = 10\n",
    "            62: c[61]\n",
    "            * (\n",
    "                -15 * x2\n",
    "                + 15 * y2\n",
    "                + 140 * x4\n",
    "                - 140 * y4\n",
    "                - 420 * x6\n",
    "                - 420 * (x4) * (y2)\n",
    "                + 420 * (x2) * (y4)\n",
    "                + 420 * y6\n",
    "                + 504 * x8\n",
    "                + 1008 * (x6) * (y2)\n",
    "                - 1008 * (x2) * (y6)\n",
    "                - 504 * y8\n",
    "                - 210 * x10\n",
    "                - 630 * (x8) * (y2)\n",
    "                - 420 * (x6) * (y4)\n",
    "                + 420 * (x4) * (y6)\n",
    "                + 630 * (x2) * (y8)\n",
    "                + 210 * y10\n",
    "            ),  # m = 2  n = 10\n",
    "            63: c[62]\n",
    "            * (\n",
    "                -35 * x4\n",
    "                + 210 * (x2) * (y2)\n",
    "                - 35 * y4\n",
    "                + 168 * x6\n",
    "                - 840 * (x4) * (y2)\n",
    "                - 840 * (x2) * (y4)\n",
    "                + 168 * y6\n",
    "                - 252 * x8\n",
    "                + 1008 * (x6) * (y2)\n",
    "                + 2520 * (x4) * (y4)\n",
    "                + 1008 * (x2) * (y6)\n",
    "                - 252 * (y8)\n",
    "                + 120 * x10\n",
    "                - 360 * (x8) * (y2)\n",
    "                - 1680 * (x6) * (y4)\n",
    "                - 1680 * (x4) * (y6)\n",
    "                - 360 * (x2) * (y8)\n",
    "                + 120 * y10\n",
    "            ),  # m = 4     n = 10\n",
    "            64: c[63]\n",
    "            * (\n",
    "                -28 * x6\n",
    "                + 420 * (x4) * (y2)\n",
    "                - 420 * (x2) * (y4)\n",
    "                + 28 * y6\n",
    "                + 72 * x8\n",
    "                - 1008 * (x6) * (y2)\n",
    "                + 1008 * (x2) * (y6)\n",
    "                - 72 * y8\n",
    "                - 45 * x10\n",
    "                + 585 * (x8) * (y2)\n",
    "                + 630 * (x6) * (y4)\n",
    "                - 630 * (x4) * (y6)\n",
    "                - 585 * (x2) * (y8)\n",
    "                + 45 * y10\n",
    "            ),  # m = 6    n = 10\n",
    "            65: c[64]\n",
    "            * (\n",
    "                -9 * x8\n",
    "                + 252 * (x6) * (y2)\n",
    "                - 630 * (x4) * (y4)\n",
    "                + 252 * (x2) * (y6)\n",
    "                - 9 * y8\n",
    "                + 10 * x10\n",
    "                - 270 * (x8) * (y2)\n",
    "                + 420 * (x6) * (y4)\n",
    "                + 420 * (x4) * (y6)\n",
    "                - 270 * (x2) * (y8)\n",
    "                + 10 * y10\n",
    "            ),  # m = 8    n = 10\n",
    "            66: c[65]\n",
    "            * (\n",
    "                -1 * x10\n",
    "                + 45 * (x8) * (y2)\n",
    "                - 210 * (x6) * (y4)\n",
    "                + 210 * (x4) * (y6)\n",
    "                - 45 * (x2) * (y8)\n",
    "                + y10\n",
    "            ),  # m = 10   n = 10\n",
    "        }\n",
    "        return Z\n",
    "    \n"
   ]
  },
  {
   "cell_type": "code",
   "execution_count": 3,
   "id": "9d2162c5",
   "metadata": {},
   "outputs": [],
   "source": [
    "c = 3e-8\n",
    "\n",
    "class beam_sampler:\n",
    "    \n",
    "    def __init__(self, skymodel, uvd, initial_zernike_coeffs,\n",
    "                 noise_cov, prior_mean_block=None,\n",
    "                 prior_cov_block=None):\n",
    "        if uvd.Nfreqs > 1:\n",
    "            msg = \"Multifrequency sampling not implemented yet. Please trim UVData object to one frequency.\"\n",
    "            raise ValueError(msg)\n",
    "        if uvd.Ntimes > 1:\n",
    "            msg = \"Multitime sampling not implemented yet. Please trim UVData object to one time.\"\n",
    "            raise ValueError(msg)\n",
    "        \n",
    "        self.skymodel = skymodel\n",
    "        self.uvd = uvd\n",
    "        self.noise_cov = noise_cov\n",
    "        self.noise_cov_inv = 1 / self.noise_cov\n",
    "        \n",
    "        time = Time(self.uvd.time_array[0], format='jd')\n",
    "        lat, lon, alt = self.uvd.telescope_location_lat_lon_alt\n",
    "        earth_loc = astropy.coordinates.EarthLocation(lat=lat, lon=lon, height=alt)\n",
    "        \n",
    "        self.skymodel.update_positions(time,\n",
    "                                       earth_loc)\n",
    "        \n",
    "        #self.rhos = np.sqrt(np.sum(self.skymodel.pos_lmn[:2, :]**2, axis=0))\n",
    "        #self.phis = np.arctan2(self.skymodel.pos_lmn[1, :] / self.skymodel.pos_lmn[0, :])\n",
    "        self.fourier = self.get_fourier()\n",
    "        self.sky = self.get_sky()\n",
    "        self.fourier_sky = self.fourier * self.sky\n",
    "        \n",
    "        \n",
    "        self.initial_zernike_coeffs = np.array(initial_zernike_coeffs, dtype=complex)\n",
    "        self.n_coeff = len(self.initial_zernike_coeffs)\n",
    "        self.zernike_matrix = self.get_zernike_matrix()\n",
    "        \"\"\"Transforms from beam coefficients to beam values\"\"\"\n",
    "        print(f\"zernike_matrix shape: {self.zernike_matrix.shape}\")\n",
    "  \n",
    "        \n",
    "        # Start with them redundant\n",
    "        self.beam_coeff_block = np.repeat(self.initial_zernike_coeffs[:, np.newaxis],\n",
    "                                    self.uvd.Nants_data,\n",
    "                                    axis=1)\n",
    "        print(f\"beam_block_coeffs shape: {self.beam_coeff_block.shape}\")\n",
    "        assert np.all(self.beam_coeff_block.shape == np.array([self.n_coeff, self.uvd.Nants_data])), \"Bad beam block shape\"\n",
    "        self.beam_block = self.zernike_matrix @ self.beam_coeff_block\n",
    "        print(f\"beam_block shape: {self.beam_block.shape}\")\n",
    "        \n",
    "        \n",
    "        self.ant_pointers = self.get_ant_pointers()\n",
    "        \n",
    "        self.prior_mean_block = prior_mean_block\n",
    "        self.prior_cov_block = prior_cov_block\n",
    "        \n",
    "        if self.prior_mean_block is None:\n",
    "            self.prior_mean_block = np.zeros([self.uvd.Nants_data, self.n_coeff])\n",
    "            self.prior_mean_cache = np.zeros([self.uvd.Nants_data, self.n_coeff])\n",
    "        if self.prior_cov_block is None:\n",
    "            self.prior_cov_block = np.zeros([self.uvd.Nants_data*self.n_coeff, self.n_coeff])\n",
    "            self.prior_cov_block_inv = np.zeros([self.uvd.Nants_data*self.n_coeff, self.n_coeff])\n",
    "        else:\n",
    "            self.prior_cov_block_inv = np.copy(self.prior_cov_block)\n",
    "            self.prior_mean_cache = np.zeros([self.uvd.Nants_data, self.n_coeff])\n",
    "            self.sqm_c_cache = np.copy(self.prior_cov_block_inv)\n",
    "            for ant_ind in range(self.uvd.Nants_data):\n",
    "                ind_start, ind_end = self.get_start_stop(ant_ind)\n",
    "                prior_cov_sb = self.prior_cov_block[ind_start:ind_end]\n",
    "                self.prior_cov_block_inv[ind_start:ind_end] = np.linalg.inv(prior_cov_sb)\n",
    "                self.prior_mean_cache[ant_ind] = self.prior_cov_block_inv[ind_start:ind_end] @ self.prior_mean_block[ant_ind]\n",
    "                self.sqm_c_cache[ind_start:ind_end] = sqrtm(self.prior_cov_block_inv[ind_start:ind_end])\n",
    "\n",
    "        self.model = self.init_model()\n",
    "        self.noise = np.random.normal(scale=np.sqrt(self.noise_cov)) + 1.0j*np.random.normal(scale=np.sqrt(self.noise_cov))\n",
    "        self.uvd.data_array = self.model + self.noise\n",
    "                \n",
    "        \n",
    "        \n",
    "    def get_fourier(self):\n",
    "        \n",
    "        # Get the phases modulo 2pi by dotting uv(w) array into lm array\n",
    "        u_dot_lm = self.uvd.uvw_array[:, :2] @ self.skymodel.pos_lmn[:2, :] * self.uvd.freq_array[0] / c\n",
    "        \n",
    "        fourier_arg = -2 * np.pi * 1j * u_dot_lm\n",
    "        \n",
    "        fourier = np.exp(fourier_arg)\n",
    "\n",
    "        \n",
    "        return(fourier)\n",
    "    \n",
    "    def get_sky(self):\n",
    "        sky_pow = self.skymodel.stokes[0, 0, :] / astropy.units.Jy\n",
    "        jac = 1 / self.skymodel.pos_lmn[-1, :]\n",
    "        \n",
    "        sky = sky_pow * jac\n",
    "        return(sky)\n",
    "    \n",
    "    def get_zernike_matrix(self):\n",
    "        # Just give each polynomial, no coeff\n",
    "        coeffs_ones = np.ones(66)\n",
    "        zernike_dict = zernike(coeffs_ones, *self.skymodel.pos_lmn[:2, :])\n",
    "        # Only get the first n_coeff rows\n",
    "        zernike_matr = np.array(list(zernike_dict.values())[:self.n_coeff])\n",
    "        \n",
    "        return(zernike_matr.T)\n",
    "    \n",
    "    def get_ant_pointers(self):\n",
    "        ant_pointers = []\n",
    "        for ant_num in self.uvd.antenna_numbers:\n",
    "            ant_1_cond = (self.uvd.ant_1_array == ant_num)\n",
    "            ant_2_cond = (self.uvd.ant_2_array == ant_num)\n",
    "            or_cond = np.logical_or(ant_1_cond, ant_2_cond)\n",
    "            where_or = np.where(or_cond)\n",
    "            \n",
    "            if len(where_or[0]) > 0:\n",
    "                ant_pointers.append(where_or[0])\n",
    "        \n",
    "        return(ant_pointers)\n",
    "    \n",
    "    def get_start_stop(self, ant_ind):\n",
    "        ind_start = ant_ind * self.n_coeff\n",
    "        ind_end = (ant_ind + 1) * self.n_coeff\n",
    "        \n",
    "        return(ind_start, ind_end)\n",
    "    \n",
    "    def init_model(self):\n",
    "        model = np.zeros_like(self.uvd.data_array)\n",
    "        counter = 0\n",
    "        for ant_ind_i in range(self.uvd.Nants_data):\n",
    "            for ant_ind_j in range(ant_ind_i + 1, self.uvd.Nants_data):    \n",
    "                beam_i = self.beam_block[:, ant_ind_i]\n",
    "                beam_j = np.conj(self.beam_block[:, ant_ind_j])\n",
    "                model[counter] = (beam_i * beam_j * self.fourier[counter]) @ self.sky\n",
    "                counter += 1\n",
    "                    \n",
    "        return(model)\n",
    "    \n",
    "    def get_T(self, ant_ind, return_model=True):\n",
    "        block_inds = np.delete(np.arange(self.uvd.Nants_data), ant_ind)\n",
    "        beam_sb = self.beam_block[:, block_inds].T\n",
    "        fourier_sb = self.fourier_sky[self.ant_pointers[ant_ind], :]\n",
    "        vis_sb = self.uvd.data_array[self.ant_pointers[ant_ind], 0, 0, 0]\n",
    "                \n",
    "        # Have to conjugate to make sure we are sampling B and not B*\n",
    "        if ant_ind:\n",
    "            fourier_sb[:ant_ind] = np.conj(fourier_sb[:ant_ind])\n",
    "            vis_sb[:ant_ind] = np.conj(vis_sb[:ant_ind])\n",
    "                \n",
    "        T = ((fourier_sb * np.conj(beam_sb)) @ self.zernike_matrix)\n",
    "        \n",
    "        return(T, vis_sb)\n",
    "    \n",
    "    def get_gibbs_samples(self, N_iter=1000):\n",
    "        if not isinstance(N_iter, int):\n",
    "            N_iter = int(N_iter)\n",
    "        samples_shape = [self.uvd.Nants_data * N_iter] + list(self.beam_coeff_block.shape)\n",
    "        samples = np.zeros(samples_shape,\n",
    "                           dtype=complex)\n",
    "        print(f\"samples shape: {samples.shape}\")\n",
    "        for sample_ind in range(N_iter):\n",
    "            for ant_ind in range(self.uvd.Nants_data):\n",
    "                ### Need to sanity check this section ###\n",
    "                #print(f\"fourier_sb shape: {fourier_sb.shape}\")\n",
    "                T, vis_sb = self.get_T(ant_ind, return_model=False)\n",
    "                ### Need to sanity check this section ###\n",
    "              \n",
    "                noise_cov_inv_sb = self.noise_cov_inv[self.ant_pointers[ant_ind]]\n",
    "\n",
    "                Tdag_Ninv = np.conj(T.T)*(noise_cov_inv_sb)\n",
    "                Tdag_Ninv_T = Tdag_Ninv@T\n",
    "                \n",
    "\n",
    "                ind_start, ind_end = self.get_start_stop(ant_ind)\n",
    "                prior_cov_inv_sb = self.prior_cov_block_inv[ind_start:ind_end]\n",
    "                prior_mean_cache_sb = self.prior_mean_cache[ant_ind]\n",
    "   \n",
    "                \n",
    "                \n",
    "                A = Tdag_Ninv_T + prior_cov_inv_sb\n",
    "                \n",
    "                sqm_n = np.conj(T.T) * np.sqrt(noise_cov_inv_sb)\n",
    "                sqm_c = self.sqm_c_cache[ind_start:ind_end]\n",
    "                \n",
    "                flx_n = np.random.normal(size=self.uvd.Nants_data - 1) + 1.0j*np.random.normal(size=self.uvd.Nants_data - 1)\n",
    "                flx_c = np.random.normal(size=self.n_coeff) + 1.0j*np.random.normal(size=self.n_coeff)\n",
    "                b = Tdag_Ninv@vis_sb + sqm_n@flx_n + sqm_c@flx_c + prior_mean_cache_sb \n",
    "        \n",
    "                sample = np.linalg.solve(A, b)\n",
    "\n",
    "                self.beam_coeff_block[:, ant_ind] = sample\n",
    "                self.beam_block[:, ant_ind] = self.zernike_matrix @ sample\n",
    "                samples[self.uvd.Nants_data * sample_ind + ant_ind, :, :] = self.beam_coeff_block\n",
    "\n",
    "            \n",
    "        return(samples)\n",
    "                \n",
    "            \n",
    "            \n",
    "        \n",
    "        \n",
    "            \n",
    "        "
   ]
  },
  {
   "cell_type": "code",
   "execution_count": 83,
   "id": "c24db7fd",
   "metadata": {},
   "outputs": [],
   "source": [
    "def default_cfg():\n",
    "    \"\"\"\n",
    "    Set parameter defaults.\n",
    "    \"\"\"\n",
    "    # Simulation specification\n",
    "    cfg_spec = dict( nfreq=16,\n",
    "                     start_freq=1.e8,\n",
    "                     bandwidth=0.2e8,\n",
    "                     start_time=2458902.33333,\n",
    "                     integration_time=40.,\n",
    "                     ntimes=3,\n",
    "                     cat_name=\"gleamegc.dat\",\n",
    "                     apply_gains=True,\n",
    "                     apply_noise=True,\n",
    "                     ant_pert=False,\n",
    "                     seed=None,\n",
    "                     ant_pert_sigma=0.0,\n",
    "                     use_legacy_array=False,\n",
    "                     hex_spec=(3,4), \n",
    "                     hex_ants_per_row=None, \n",
    "                     hex_ant_sep=14.6,\n",
    "                     use_ptsrc=True )\n",
    "                        \n",
    "    # Diffuse model specification\n",
    "    cfg_diffuse = dict( use_diffuse=False,\n",
    "                        nside=64,\n",
    "                        obs_latitude=-30.7215277777,\n",
    "                        obs_longitude = 21.4283055554,\n",
    "                        obs_height = 1073,\n",
    "                        beam_pol='XX',\n",
    "                        diffuse_model='GSM',\n",
    "                        eor_random_seed=42,\n",
    "                        nprocs=1 )\n",
    "    \n",
    "    # Beam model parameters\n",
    "    cfg_beam = dict( ref_freq=1.e8,\n",
    "                     spectral_index=-0.6975,\n",
    "                     beam_coeffs=[1, 0.9, 0.9, 0.9, 0.8, 0.8, 0.8, 0.8, 0.8, 0.8] )\n",
    "    \n",
    "    # Fluctuating gain model parameters\n",
    "    cfg_gain = dict(nmodes=8, seed=None)\n",
    "    \n",
    "    # Noise parameters\n",
    "    cfg_noise = dict(nsamp=1., seed=None, noise_file=None)\n",
    "    \n",
    "    # Combine into single dict\n",
    "    cfg = { 'sim_beam':     cfg_beam,\n",
    "            'sim_spec':     cfg_spec,\n",
    "            'sim_diffuse':  cfg_diffuse,\n",
    "            'sim_noise':    cfg_noise,\n",
    "            'sim_gain':     cfg_gain,\n",
    "           }\n",
    "    return cfg"
   ]
  },
  {
   "cell_type": "code",
   "execution_count": 5,
   "id": "6b556fa2",
   "metadata": {},
   "outputs": [
    {
     "name": "stdout",
     "output_type": "stream",
     "text": [
      "Number of antennas with no nans: 52\n",
      "Number of times in data file after select: 1\n",
      "Number of freqs in data file after select: 1\n",
      "Number of ants in data file after select: 52\n",
      "Number of pols in data file after select: 1\n",
      "Number of baselines in data file after select: 1378\n"
     ]
    }
   ],
   "source": [
    "uvd_inpath = \"/Users/mike_e_dubs/HERA/Data/H1C_IDR2/zen.2458098.38650.HH.uvh5\"\n",
    "assert os.path.exists(uvd_inpath), \"Path to visibility file does not exist. Check uvd_inpath variable.\"\n",
    "\n",
    "\n",
    "uvd = UVData()\n",
    "uvd.read(uvd_inpath, read_data=False)\n",
    "\n",
    "# Make some arbitrary selections for the data file:\n",
    "# 1 time, 1 freq, 1 pol\n",
    "chosen_time = np.unique(uvd.time_array)[10]\n",
    "chosen_freq_chan = 500\n",
    "ant_nums = np.unique(uvd.antenna_numbers[:10])\n",
    "pol = uvd.polarization_array[0]\n",
    " \n",
    "uvd.read(uvd_inpath, times=chosen_time, freq_chans=chosen_freq_chan,\n",
    "         polarizations=pol)\n",
    "\n",
    "no_nans = np.unique(uvd.ant_1_array[np.logical_not(np.any(np.isnan(uvd.data_array),\n",
    "                                                          axis=(1, 2, 3)))])\n",
    "print(f\"Number of antennas with no nans: {len(no_nans)}\")\n",
    "\n",
    "\n",
    "\n",
    "# Check that it went as intended (mostly looking at antennas here)\n",
    "print(f\"Number of times in data file after select: {uvd.Ntimes}\")\n",
    "print(f\"Number of freqs in data file after select: {uvd.Nfreqs}\")\n",
    "print(f\"Number of ants in data file after select: {uvd.Nants_data}\")\n",
    "print(f\"Number of pols in data file after select: {uvd.Npols}\")\n",
    "print(f\"Number of baselines in data file after select: {uvd.Nbls}\")\n",
    "\n",
    "\n"
   ]
  },
  {
   "cell_type": "code",
   "execution_count": 6,
   "id": "fe1d0d79",
   "metadata": {},
   "outputs": [
    {
     "name": "stdout",
     "output_type": "stream",
     "text": [
      "[  0   1   2  11  12  13  14  23  24  25  26  27  36  37  38  39  40  41\n",
      "  50  51  52  53  54  55  65  66  67  68  69  70  71  82  83  84  85  86\n",
      "  87  88  98 120 121 122 123 124 136 137 138 139 140 141 142 143]\n"
     ]
    }
   ],
   "source": [
    "print(np.unique(uvd.ant_1_array))"
   ]
  },
  {
   "cell_type": "markdown",
   "id": "c89a2aa4",
   "metadata": {},
   "source": [
    "# Phase to zenith so that ra/dec can be used to construct a source list"
   ]
  },
  {
   "cell_type": "code",
   "execution_count": 7,
   "id": "1621b68e",
   "metadata": {},
   "outputs": [
    {
     "name": "stdout",
     "output_type": "stream",
     "text": [
      "Number of antennas with no nans: 52\n"
     ]
    }
   ],
   "source": [
    "uvd.phase_to_time(Time(uvd.time_array[0], format='jd'))\n",
    "no_nans = np.unique(uvd.ant_1_array[np.logical_not(np.any(np.isnan(uvd.data_array),\n",
    "                                                          axis=(1, 2, 3)))])\n",
    "print(f\"Number of antennas with no nans: {len(no_nans)}\")"
   ]
  },
  {
   "cell_type": "markdown",
   "id": "5811739f",
   "metadata": {},
   "source": [
    "# Want to generate uniform points on a sphere"
   ]
  },
  {
   "cell_type": "code",
   "execution_count": 167,
   "id": "190b7508",
   "metadata": {},
   "outputs": [
    {
     "name": "stdout",
     "output_type": "stream",
     "text": [
      "dec_cdf bounds: [0. 1.]\n"
     ]
    }
   ],
   "source": [
    "Nsource = 10000\n",
    "\n",
    "# 12 degrees in radians (twice a beam width)\n",
    "offset = np.pi / 2\n",
    "\n",
    "dec_low = uvd.phase_center_dec - offset\n",
    "dec_high = uvd.phase_center_dec + offset\n",
    "\n",
    "ra_low = uvd.phase_center_ra - offset\n",
    "ra_high = uvd.phase_center_ra + offset\n",
    "\n",
    "source_ras = np.random.uniform(low=ra_low, high=ra_high, size=Nsource)\n",
    "\n",
    "dec_norm = np.sin(dec_high) - np.sin(dec_low)\n",
    "decs = np.linspace(dec_low, dec_high, num=int(1e6))\n",
    "dec_cdf = cumtrapz(np.cos(decs) / dec_norm, decs)\n",
    "\n",
    "dec_cdf = np.append(0, dec_cdf)\n",
    "print(f\"dec_cdf bounds: {dec_cdf[[0, -1]]}\")\n",
    "\n",
    "interp = interp1d(dec_cdf, decs)\n",
    "\n",
    "u = np.random.uniform(size=Nsource)\n",
    "\n",
    "source_decs = interp(u)\n",
    "\n",
    "source_ras = astropy.coordinates.angles.Longitude(source_ras, unit='rad')\n",
    "source_decs = astropy.coordinates.angles.Latitude(source_decs, unit='rad')"
   ]
  },
  {
   "cell_type": "code",
   "execution_count": 168,
   "id": "10def48e",
   "metadata": {},
   "outputs": [],
   "source": [
    "# power law fluxes for fun\n",
    "flux = np.random.pareto(2, size=Nsource)\n",
    "stokes = np.zeros([4, uvd.Nfreqs, Nsource])\n",
    "stokes[0, :, :] = flux\n",
    "names = [f\"test_source_{ind}\" for ind in range(Nsource)]"
   ]
  },
  {
   "cell_type": "code",
   "execution_count": 169,
   "id": "6a7b71a9",
   "metadata": {},
   "outputs": [],
   "source": [
    "sm = SkyModel(ra=source_ras, dec=source_decs,\n",
    "              freq_array=uvd.freq_array[0], stokes=stokes,\n",
    "              name=names, spectral_type='flat')"
   ]
  },
  {
   "cell_type": "code",
   "execution_count": 170,
   "id": "d60d3e40",
   "metadata": {
    "scrolled": true
   },
   "outputs": [
    {
     "name": "stdout",
     "output_type": "stream",
     "text": [
      "zernike_matrix shape: (10000, 66)\n",
      "beam_block_coeffs shape: (66, 10)\n",
      "beam_block shape: (10000, 10)\n"
     ]
    }
   ],
   "source": [
    "#new_uvd = model.uvdata.select(antenna_nums=ant_nums, inplace=False)\n",
    "\n",
    "num_coeff = 66\n",
    "num_ant = 10\n",
    "new_uvd = uvd.select(antenna_nums=uvd.antenna_numbers[:num_ant], inplace=False)\n",
    "new_uvd.select(ant_str='cross', inplace=True)\n",
    "# These should make an airy disk\n",
    "beam_coeffs=new_beam_coeffs\n",
    "\n",
    "cfg_beam = dict( ref_freq=1.e8,\n",
    "                     spectral_index=-0.6975,\n",
    "                     beam_coeffs=beam_coeffs[:num_coeff])\n",
    "beams = BeamList([ZernikeBeam(**cfg_beam)])\n",
    "#hera_sim_model = ModelData(uvdata=new_uvd, beams=beams, sky_model=sm)\n",
    "\n",
    "prior_mean_block=np.repeat(np.array(beam_coeffs[:num_coeff])[np.newaxis, :],\n",
    "                           new_uvd.Nants_data, axis=0)\n",
    "prior_cov_block = 1 * np.vstack(num_ant * [np.eye(num_coeff)])\n",
    "\n",
    "bs = beam_sampler(sm, new_uvd, beam_coeffs[:num_coeff],\n",
    "                  1e-10*np.ones(np.size(new_uvd.data_array)),\n",
    "                  prior_mean_block=prior_mean_block,\n",
    "                  prior_cov_block=prior_cov_block)\n"
   ]
  },
  {
   "cell_type": "code",
   "execution_count": 166,
   "id": "1c220c85",
   "metadata": {},
   "outputs": [
    {
     "name": "stdout",
     "output_type": "stream",
     "text": [
      "[ 6.17247391e-01  4.40277418e-05  1.10512883e-04  4.53286715e-03\n",
      " -3.30126331e-01 -1.36935404e-06  1.15363698e-04  5.90363793e-05\n",
      "  1.38661746e-04 -2.38697893e-04 -8.23999359e-03  5.35309979e-04\n",
      "  4.88523232e-02 -5.60877991e-06  1.64662094e-04 -6.46471600e-05\n",
      "  1.04406468e-04  4.18783297e-05  9.27734814e-05 -1.54794852e-04\n",
      " -1.48478299e-04 -1.33664135e-03 -4.44883203e-04 -5.53881188e-04\n",
      " -3.61243137e-03 -9.14069021e-06  1.17959671e-04  5.81687158e-05\n",
      " -7.54620042e-05 -3.27452531e-05  6.14840893e-05  1.67898531e-05\n",
      "  3.54816975e-05 -6.05914829e-05 -8.23225121e-05  1.21600020e-04\n",
      "  9.86079931e-05 -1.21738901e-05  2.68500118e-05 -4.58429696e-05\n",
      "  1.56876055e-04 -5.02754606e-06  5.15740336e-05  2.29831061e-05\n",
      " -3.52819334e-05  1.12779954e-05 -1.59712810e-05 -1.02821965e-05\n",
      "  1.72226308e-05  2.41812763e-06  4.77614797e-06 -1.14890408e-05\n",
      " -2.26385649e-05  1.74455918e-05 -2.09849930e-05 -2.04475738e-06\n",
      "  3.05095995e-06  7.86833799e-06 -2.58702018e-06 -2.53623859e-06\n",
      " -4.97344585e-06 -1.66646419e-07  8.27829135e-06  3.72573107e-06\n",
      " -2.78655651e-06  2.77294813e-06]\n"
     ]
    }
   ],
   "source": [
    "radial = np.sqrt(np.sum(bs.skymodel.pos_lmn[:2]**2, axis=0))\n",
    "airy_vec = (4 * jv(1, 2 * radial)**2)/(2 * radial)**2\n",
    "new_beam_coeffs = np.linalg.inv(bs.zernike_matrix) @ airy_vec\n",
    "\n",
    "print(new_beam_coeffs)"
   ]
  },
  {
   "cell_type": "code",
   "execution_count": 133,
   "id": "cec51177",
   "metadata": {},
   "outputs": [
    {
     "name": "stdout",
     "output_type": "stream",
     "text": [
      "zernike_matrix shape: (66, 66)\n",
      "beam_block_coeffs shape: (66, 10)\n",
      "beam_block shape: (66, 10)\n"
     ]
    },
    {
     "ename": "ValueError",
     "evalue": "operands could not be broadcast together with shapes (45,1,1,45) (2025,) ",
     "output_type": "error",
     "traceback": [
      "\u001b[0;31m---------------------------------------------------------------------------\u001b[0m",
      "\u001b[0;31mValueError\u001b[0m                                Traceback (most recent call last)",
      "\u001b[0;32m/var/folders/sh/jrl43dfn78z4f330dx65kh9m0000gn/T/ipykernel_58056/3791023712.py\u001b[0m in \u001b[0;36m<module>\u001b[0;34m\u001b[0m\n\u001b[1;32m      2\u001b[0m                   \u001b[0;36m1e-10\u001b[0m\u001b[0;34m*\u001b[0m\u001b[0mnp\u001b[0m\u001b[0;34m.\u001b[0m\u001b[0mones\u001b[0m\u001b[0;34m(\u001b[0m\u001b[0mnp\u001b[0m\u001b[0;34m.\u001b[0m\u001b[0msize\u001b[0m\u001b[0;34m(\u001b[0m\u001b[0mnew_uvd\u001b[0m\u001b[0;34m.\u001b[0m\u001b[0mdata_array\u001b[0m\u001b[0;34m)\u001b[0m\u001b[0;34m)\u001b[0m\u001b[0;34m,\u001b[0m\u001b[0;34m\u001b[0m\u001b[0;34m\u001b[0m\u001b[0m\n\u001b[1;32m      3\u001b[0m                   \u001b[0mprior_mean_block\u001b[0m\u001b[0;34m=\u001b[0m\u001b[0mprior_mean_block\u001b[0m\u001b[0;34m,\u001b[0m\u001b[0;34m\u001b[0m\u001b[0;34m\u001b[0m\u001b[0m\n\u001b[0;32m----> 4\u001b[0;31m                   prior_cov_block=prior_cov_block)\n\u001b[0m",
      "\u001b[0;32m/var/folders/sh/jrl43dfn78z4f330dx65kh9m0000gn/T/ipykernel_58056/1920194376.py\u001b[0m in \u001b[0;36m__init__\u001b[0;34m(self, skymodel, uvd, initial_zernike_coeffs, noise_cov, prior_mean_block, prior_cov_block)\u001b[0m\n\u001b[1;32m     73\u001b[0m         \u001b[0mself\u001b[0m\u001b[0;34m.\u001b[0m\u001b[0mmodel\u001b[0m \u001b[0;34m=\u001b[0m \u001b[0mself\u001b[0m\u001b[0;34m.\u001b[0m\u001b[0minit_model\u001b[0m\u001b[0;34m(\u001b[0m\u001b[0;34m)\u001b[0m\u001b[0;34m\u001b[0m\u001b[0;34m\u001b[0m\u001b[0m\n\u001b[1;32m     74\u001b[0m         \u001b[0mself\u001b[0m\u001b[0;34m.\u001b[0m\u001b[0mnoise\u001b[0m \u001b[0;34m=\u001b[0m \u001b[0mnp\u001b[0m\u001b[0;34m.\u001b[0m\u001b[0mrandom\u001b[0m\u001b[0;34m.\u001b[0m\u001b[0mnormal\u001b[0m\u001b[0;34m(\u001b[0m\u001b[0mscale\u001b[0m\u001b[0;34m=\u001b[0m\u001b[0mnp\u001b[0m\u001b[0;34m.\u001b[0m\u001b[0msqrt\u001b[0m\u001b[0;34m(\u001b[0m\u001b[0mself\u001b[0m\u001b[0;34m.\u001b[0m\u001b[0mnoise_cov\u001b[0m\u001b[0;34m)\u001b[0m\u001b[0;34m)\u001b[0m \u001b[0;34m+\u001b[0m \u001b[0;36m1.0j\u001b[0m\u001b[0;34m*\u001b[0m\u001b[0mnp\u001b[0m\u001b[0;34m.\u001b[0m\u001b[0mrandom\u001b[0m\u001b[0;34m.\u001b[0m\u001b[0mnormal\u001b[0m\u001b[0;34m(\u001b[0m\u001b[0mscale\u001b[0m\u001b[0;34m=\u001b[0m\u001b[0mnp\u001b[0m\u001b[0;34m.\u001b[0m\u001b[0msqrt\u001b[0m\u001b[0;34m(\u001b[0m\u001b[0mself\u001b[0m\u001b[0;34m.\u001b[0m\u001b[0mnoise_cov\u001b[0m\u001b[0;34m)\u001b[0m\u001b[0;34m)\u001b[0m\u001b[0;34m\u001b[0m\u001b[0;34m\u001b[0m\u001b[0m\n\u001b[0;32m---> 75\u001b[0;31m         \u001b[0mself\u001b[0m\u001b[0;34m.\u001b[0m\u001b[0muvd\u001b[0m\u001b[0;34m.\u001b[0m\u001b[0mdata_array\u001b[0m \u001b[0;34m=\u001b[0m \u001b[0mself\u001b[0m\u001b[0;34m.\u001b[0m\u001b[0mmodel\u001b[0m \u001b[0;34m+\u001b[0m \u001b[0mself\u001b[0m\u001b[0;34m.\u001b[0m\u001b[0mnoise\u001b[0m\u001b[0;34m\u001b[0m\u001b[0;34m\u001b[0m\u001b[0m\n\u001b[0m\u001b[1;32m     76\u001b[0m \u001b[0;34m\u001b[0m\u001b[0m\n\u001b[1;32m     77\u001b[0m \u001b[0;34m\u001b[0m\u001b[0m\n",
      "\u001b[0;31mValueError\u001b[0m: operands could not be broadcast together with shapes (45,1,1,45) (2025,) "
     ]
    }
   ],
   "source": [
    "bs = beam_sampler(sm, new_uvd, new_beam_coeffs[:num_coeff],\n",
    "                  1e-10*np.ones(np.size(new_uvd.data_array)),\n",
    "                  prior_mean_block=prior_mean_block,\n",
    "                  prior_cov_block=prior_cov_block)"
   ]
  },
  {
   "cell_type": "code",
   "execution_count": 200,
   "id": "533abaa8",
   "metadata": {},
   "outputs": [
    {
     "name": "stdout",
     "output_type": "stream",
     "text": [
      "samples shape: (10000, 2, 10)\n",
      "samples shape: (10000, 2, 10)\n",
      "samples shape: (10000, 2, 10)\n",
      "samples shape: (10000, 2, 10)\n",
      "samples shape: (10000, 2, 10)\n",
      "samples shape: (10000, 2, 10)\n",
      "samples shape: (10000, 2, 10)\n",
      "samples shape: (10000, 2, 10)\n",
      "samples shape: (10000, 2, 10)\n",
      "samples shape: (10000, 2, 10)\n",
      "samples shape: (10000, 2, 10)\n",
      "samples shape: (10000, 2, 10)\n",
      "samples shape: (10000, 2, 10)\n",
      "samples shape: (10000, 2, 10)\n",
      "samples shape: (10000, 2, 10)\n",
      "samples shape: (10000, 2, 10)\n",
      "samples shape: (10000, 2, 10)\n",
      "samples shape: (10000, 2, 10)\n",
      "samples shape: (10000, 2, 10)\n",
      "samples shape: (10000, 2, 10)\n",
      "samples shape: (10000, 2, 10)\n",
      "samples shape: (10000, 2, 10)\n",
      "samples shape: (10000, 2, 10)\n",
      "samples shape: (10000, 2, 10)\n",
      "samples shape: (10000, 2, 10)\n",
      "samples shape: (10000, 2, 10)\n",
      "samples shape: (10000, 2, 10)\n",
      "samples shape: (10000, 2, 10)\n",
      "samples shape: (10000, 2, 10)\n",
      "samples shape: (10000, 2, 10)\n",
      "samples shape: (10000, 2, 10)\n",
      "samples shape: (10000, 2, 10)\n",
      "samples shape: (10000, 2, 10)\n",
      "samples shape: (10000, 2, 10)\n",
      "samples shape: (10000, 2, 10)\n",
      "samples shape: (10000, 2, 10)\n",
      "samples shape: (10000, 2, 10)\n",
      "samples shape: (10000, 2, 10)\n",
      "samples shape: (10000, 2, 10)\n",
      "samples shape: (10000, 2, 10)\n",
      "samples shape: (10000, 2, 10)\n",
      "samples shape: (10000, 2, 10)\n",
      "samples shape: (10000, 2, 10)\n",
      "samples shape: (10000, 2, 10)\n",
      "samples shape: (10000, 2, 10)\n",
      "samples shape: (10000, 2, 10)\n",
      "samples shape: (10000, 2, 10)\n",
      "samples shape: (10000, 2, 10)\n",
      "samples shape: (10000, 2, 10)\n",
      "samples shape: (10000, 2, 10)\n",
      "samples shape: (10000, 2, 10)\n",
      "samples shape: (10000, 2, 10)\n",
      "samples shape: (10000, 2, 10)\n",
      "samples shape: (10000, 2, 10)\n",
      "samples shape: (10000, 2, 10)\n",
      "samples shape: (10000, 2, 10)\n",
      "samples shape: (10000, 2, 10)\n",
      "samples shape: (10000, 2, 10)\n",
      "samples shape: (10000, 2, 10)\n",
      "samples shape: (10000, 2, 10)\n",
      "samples shape: (10000, 2, 10)\n",
      "samples shape: (10000, 2, 10)\n",
      "samples shape: (10000, 2, 10)\n",
      "samples shape: (10000, 2, 10)\n",
      "samples shape: (10000, 2, 10)\n",
      "samples shape: (10000, 2, 10)\n",
      "samples shape: (10000, 2, 10)\n",
      "samples shape: (10000, 2, 10)\n",
      "samples shape: (10000, 2, 10)\n",
      "samples shape: (10000, 2, 10)\n",
      "samples shape: (10000, 2, 10)\n",
      "samples shape: (10000, 2, 10)\n",
      "samples shape: (10000, 2, 10)\n",
      "samples shape: (10000, 2, 10)\n",
      "samples shape: (10000, 2, 10)\n",
      "samples shape: (10000, 2, 10)\n",
      "samples shape: (10000, 2, 10)\n",
      "samples shape: (10000, 2, 10)\n",
      "samples shape: (10000, 2, 10)\n",
      "samples shape: (10000, 2, 10)\n",
      "samples shape: (10000, 2, 10)\n",
      "samples shape: (10000, 2, 10)\n",
      "samples shape: (10000, 2, 10)\n",
      "samples shape: (10000, 2, 10)\n",
      "samples shape: (10000, 2, 10)\n",
      "samples shape: (10000, 2, 10)\n",
      "samples shape: (10000, 2, 10)\n",
      "samples shape: (10000, 2, 10)\n",
      "samples shape: (10000, 2, 10)\n",
      "samples shape: (10000, 2, 10)\n",
      "samples shape: (10000, 2, 10)\n",
      "samples shape: (10000, 2, 10)\n",
      "samples shape: (10000, 2, 10)\n",
      "samples shape: (10000, 2, 10)\n",
      "samples shape: (10000, 2, 10)\n",
      "samples shape: (10000, 2, 10)\n",
      "samples shape: (10000, 2, 10)\n",
      "samples shape: (10000, 2, 10)\n",
      "samples shape: (10000, 2, 10)\n",
      "samples shape: (10000, 2, 10)\n"
     ]
    },
    {
     "data": {
      "image/png": "[encoded data removed]",
      "text/plain": [
       "<Figure size 432x288 with 1 Axes>"
      ]
     },
     "metadata": {
      "needs_background": "light"
     },
     "output_type": "display_data"
    }
   ],
   "source": [
    "N_run = 100\n",
    "N_iter = 1e3\n",
    "for run_iter in range(N_run):\n",
    "    samples = bs.get_gibbs_samples(N_iter=N_iter)\n",
    "    series = np.real(samples[::num_ant, 0, 0])\n",
    "    plt.plot(np.arange(run_iter*N_iter, (run_iter + 1)*N_iter), series)\n",
    "    del samples"
   ]
  },
  {
   "cell_type": "code",
   "execution_count": 201,
   "id": "140b543a",
   "metadata": {},
   "outputs": [
    {
     "name": "stdout",
     "output_type": "stream",
     "text": [
      "zernike_matrix shape: (100, 2)\n",
      "beam_block_coeffs shape: (2, 10)\n",
      "beam_block shape: (100, 10)\n"
     ]
    }
   ],
   "source": [
    "\n",
    "num_coeff = 2\n",
    "num_ant = 10\n",
    "new_uvd = uvd.select(antenna_nums=uvd.antenna_numbers[:num_ant], inplace=False)\n",
    "new_uvd.select(ant_str='cross', inplace=True)\n",
    "\n",
    "\n",
    "prior_mean_block=np.repeat(np.array(beam_coeffs[:num_coeff])[np.newaxis, :],\n",
    "                           new_uvd.Nants_data, axis=0)\n",
    "prior_cov_block = 1 * np.vstack(num_ant * [np.eye(num_coeff)])\n",
    "\n",
    "bs = beam_sampler(sm, new_uvd, beam_coeffs[:num_coeff],\n",
    "                  1e-10*np.ones(np.size(new_uvd.data_array)),\n",
    "                  prior_mean_block=prior_mean_block,\n",
    "                  prior_cov_block=prior_cov_block)\n",
    "\n"
   ]
  },
  {
   "cell_type": "code",
   "execution_count": 202,
   "id": "693c50a2",
   "metadata": {},
   "outputs": [
    {
     "name": "stdout",
     "output_type": "stream",
     "text": [
      "samples shape: (100000, 2, 10)\n",
      "samples shape: (100000, 2, 10)\n",
      "samples shape: (100000, 2, 10)\n",
      "samples shape: (100000, 2, 10)\n",
      "samples shape: (100000, 2, 10)\n",
      "samples shape: (100000, 2, 10)\n",
      "samples shape: (100000, 2, 10)\n",
      "samples shape: (100000, 2, 10)\n",
      "samples shape: (100000, 2, 10)\n",
      "samples shape: (100000, 2, 10)\n"
     ]
    },
    {
     "data": {
      "image/png": "[encoded data removed]",
      "text/plain": [
       "<Figure size 432x288 with 1 Axes>"
      ]
     },
     "metadata": {
      "needs_background": "light"
     },
     "output_type": "display_data"
    }
   ],
   "source": [
    "N_run = 10\n",
    "N_iter = 1e4\n",
    "for run_iter in range(N_run):\n",
    "    samples = bs.get_gibbs_samples(N_iter=N_iter)\n",
    "    series = np.real(samples[::num_ant, 0, 0])\n",
    "    plt.plot(np.arange(run_iter*N_iter, (run_iter + 1)*N_iter), series)\n",
    "    del samples"
   ]
  },
  {
   "cell_type": "code",
   "execution_count": 76,
   "id": "77b7459e",
   "metadata": {
    "scrolled": true
   },
   "outputs": [
    {
     "name": "stdout",
     "output_type": "stream",
     "text": [
      "zernike_matrix shape: (100, 5)\n",
      "beam_block_coeffs shape: (5, 52)\n",
      "beam_block shape: (100, 52)\n"
     ]
    }
   ],
   "source": [
    "num_coeff = 5\n",
    "num_ant = 52\n",
    "new_uvd = uvd.select(antenna_nums=uvd.antenna_numbers[:num_ant], inplace=False)\n",
    "new_uvd.select(ant_str='cross', inplace=True)\n",
    "\n",
    "\n",
    "prior_mean_block=np.repeat(np.array(beam_coeffs[:num_coeff])[np.newaxis, :],\n",
    "                           new_uvd.Nants_data, axis=0)\n",
    "prior_cov_block = 1 * np.vstack(num_ant * [np.eye(num_coeff)])\n",
    "\n",
    "bs = beam_sampler(sm, new_uvd, beam_coeffs[:num_coeff],\n",
    "                  1e-10*np.ones(np.size(new_uvd.data_array)),\n",
    "                  prior_mean_block=prior_mean_block,\n",
    "                  prior_cov_block=prior_cov_block)\n",
    "\n",
    "\n"
   ]
  },
  {
   "cell_type": "code",
   "execution_count": 35,
   "id": "83c0756b",
   "metadata": {},
   "outputs": [
    {
     "name": "stdout",
     "output_type": "stream",
     "text": [
      "samples shape: (520000, 5, 52)\n"
     ]
    }
   ],
   "source": [
    "N_iter = 1e4\n",
    "samples = bs.get_gibbs_samples(N_iter=N_iter)"
   ]
  },
  {
   "cell_type": "code",
   "execution_count": 31,
   "id": "57bbf345",
   "metadata": {},
   "outputs": [
    {
     "data": {
      "image/png": "[encoded data removed]",
      "text/plain": [
       "<Figure size 432x288 with 2 Axes>"
      ]
     },
     "metadata": {
      "needs_background": "light"
     },
     "output_type": "display_data"
    }
   ],
   "source": [
    "coeff = 1\n",
    "CC = np.corrcoef(samples[:, coeff, :].T)\n",
    "plt.imshow(CC.real, vmin=0, vmax=1)\n",
    "plt.colorbar()\n",
    "plt.ylabel(\"Antenna Index\")\n",
    "plt.xlabel(\"Antenna Index\")\n",
    "plt.title(f\"Ant-Ant Correlation Matrix for Coeff {coeff}\")\n",
    "path = \"/Users/mike_e_dubs/HERA/beam_gibbs_sampler\"\n",
    "if not os.path.exists(path):\n",
    "    os.makedirs(path)\n",
    "plt.savefig(f\"{path}/corr_coeff_10_ant_param_{coeff}_3_params.png\")"
   ]
  },
  {
   "cell_type": "code",
   "execution_count": 44,
   "id": "41e10fc2",
   "metadata": {},
   "outputs": [
    {
     "name": "stdout",
     "output_type": "stream",
     "text": [
      "(array([4.88038580e+00-7.21306263e-19j, 1.18902836e-01-2.19477847e-18j,\n",
      "       6.31017707e-04-6.68599169e-18j, 6.40394596e-07+1.21327248e-18j,\n",
      "       7.97035983e-05+8.64630196e-18j]), array([[ 0.45185037+0.00158635j,  0.17003085+0.00933119j,\n",
      "        -0.42931684+0.00271231j,  0.75605225+0.j        ,\n",
      "         0.10075432+0.02728426j],\n",
      "       [-0.45145281+0.00429999j,  0.20847723-0.00630267j,\n",
      "         0.13612156-0.01799291j,  0.18904323+0.02088692j,\n",
      "         0.83525024+0.j        ],\n",
      "       [ 0.45239097+0.j        ,  0.09320952+0.00677205j,\n",
      "        -0.46696758-0.02898642j, -0.61455711-0.00179447j,\n",
      "         0.43591959-0.00024329j],\n",
      "       [-0.43863115+0.01698596j,  0.70732405+0.j        ,\n",
      "        -0.44131956+0.00582289j, -0.10566319-0.01347986j,\n",
      "        -0.31741496+0.01055195j],\n",
      "       [ 0.44119494+0.00205691j,  0.6468075 +0.00994098j,\n",
      "         0.61897583+0.j        , -0.05550149+0.01004516j,\n",
      "        -0.01147647-0.02097425j]]))\n"
     ]
    }
   ],
   "source": [
    "ZCC = np.corrcoef(samples[:, :, 0].T)\n",
    "print(np.linalg.eig(ZCC))"
   ]
  },
  {
   "cell_type": "code",
   "execution_count": 61,
   "id": "1457f7be",
   "metadata": {},
   "outputs": [],
   "source": [
    "corr = np.correlate(samples[::num_ant, 0, 0], samples[::num_ant, 0, 0], mode='full')\n",
    "den_1 = np.arange(1, int(1e4), 1)\n",
    "den_2 = np.arange(int(1e4), 0, -1)\n",
    "denom = np.concatenate([den_1, den_2])\n",
    "corr_ave = corr / np.array(denom)"
   ]
  },
  {
   "cell_type": "code",
   "execution_count": 70,
   "id": "d57a2c38",
   "metadata": {},
   "outputs": [
    {
     "name": "stderr",
     "output_type": "stream",
     "text": [
      "Casting complex values to real discards the imaginary part\n"
     ]
    },
    {
     "data": {
      "text/plain": [
       "(0.0, 1.0)"
      ]
     },
     "execution_count": 70,
     "metadata": {},
     "output_type": "execute_result"
    },
    {
     "data": {
      "image/png": "[encoded data removed]",
      "text/plain": [
       "<Figure size 432x288 with 1 Axes>"
      ]
     },
     "metadata": {
      "needs_background": "light"
     },
     "output_type": "display_data"
    }
   ],
   "source": [
    "plt.plot(corr_ave)\n",
    "plt.ylim([0, 1])"
   ]
  },
  {
   "cell_type": "code",
   "execution_count": 179,
   "id": "3c080ccd",
   "metadata": {},
   "outputs": [
    {
     "data": {
      "image/png": "[encoded data removed]",
      "text/plain": [
       "<Figure size 432x288 with 1 Axes>"
      ]
     },
     "metadata": {
      "needs_background": "light"
     },
     "output_type": "display_data"
    }
   ],
   "source": [
    "\n",
    "_, _, _ = plt.hist(np.real(samples[:, 0, 0]), bins='auto', histtype='step', log=True)"
   ]
  },
  {
   "cell_type": "code",
   "execution_count": 44,
   "id": "e4476ae4",
   "metadata": {},
   "outputs": [
    {
     "name": "stdout",
     "output_type": "stream",
     "text": [
      "0.6869651202357291\n"
     ]
    },
    {
     "data": {
      "image/png": "[encoded data removed]",
      "text/plain": [
       "<Figure size 432x288 with 1 Axes>"
      ]
     },
     "metadata": {
      "needs_background": "light"
     },
     "output_type": "display_data"
    }
   ],
   "source": [
    "_, _, _ = plt.hist(np.abs(bs.model.flatten()), bins='auto', histtype='step')\n",
    "print(np.mean(np.abs(bs.model.flatten())))"
   ]
  },
  {
   "cell_type": "code",
   "execution_count": 20,
   "id": "371d157a",
   "metadata": {},
   "outputs": [
    {
     "data": {
      "image/png": "[encoded data removed]",
      "text/plain": [
       "<Figure size 432x288 with 1 Axes>"
      ]
     },
     "metadata": {
      "needs_background": "light"
     },
     "output_type": "display_data"
    }
   ],
   "source": [
    "_, _, _ = plt.hist(np.abs(hera_sim_model.uvdata.data_array.flatten()), bins='auto', histtype='step')"
   ]
  },
  {
   "cell_type": "code",
   "execution_count": 21,
   "id": "ca31b9b1",
   "metadata": {},
   "outputs": [
    {
     "name": "stdout",
     "output_type": "stream",
     "text": [
      "samples shape: (52, 2, 52)\n",
      "samples shape: (52, 2, 52)\n",
      "samples shape: (52, 2, 52)\n",
      "samples shape: (52, 2, 52)\n",
      "samples shape: (52, 2, 52)\n",
      "samples shape: (52, 2, 52)\n",
      "samples shape: (52, 2, 52)\n",
      "samples shape: (52, 2, 52)\n",
      "samples shape: (52, 2, 52)\n",
      "samples shape: (52, 2, 52)\n",
      "samples shape: (52, 2, 52)\n",
      "samples shape: (52, 2, 52)\n",
      "samples shape: (52, 2, 52)\n",
      "samples shape: (52, 2, 52)\n",
      "samples shape: (52, 2, 52)\n",
      "samples shape: (52, 2, 52)\n",
      "samples shape: (52, 2, 52)\n",
      "samples shape: (52, 2, 52)\n",
      "samples shape: (52, 2, 52)\n",
      "samples shape: (52, 2, 52)\n",
      "samples shape: (52, 2, 52)\n",
      "samples shape: (52, 2, 52)\n",
      "samples shape: (52, 2, 52)\n",
      "samples shape: (52, 2, 52)\n",
      "samples shape: (52, 2, 52)\n",
      "samples shape: (52, 2, 52)\n",
      "samples shape: (52, 2, 52)\n",
      "samples shape: (52, 2, 52)\n",
      "samples shape: (52, 2, 52)\n",
      "samples shape: (52, 2, 52)\n",
      "samples shape: (52, 2, 52)\n",
      "samples shape: (52, 2, 52)\n",
      "samples shape: (52, 2, 52)\n",
      "samples shape: (52, 2, 52)\n",
      "samples shape: (52, 2, 52)\n",
      "samples shape: (52, 2, 52)\n",
      "samples shape: (52, 2, 52)\n",
      "samples shape: (52, 2, 52)\n",
      "samples shape: (52, 2, 52)\n",
      "samples shape: (52, 2, 52)\n",
      "samples shape: (52, 2, 52)\n",
      "samples shape: (52, 2, 52)\n",
      "samples shape: (52, 2, 52)\n",
      "samples shape: (52, 2, 52)\n",
      "samples shape: (52, 2, 52)\n",
      "samples shape: (52, 2, 52)\n",
      "samples shape: (52, 2, 52)\n",
      "samples shape: (52, 2, 52)\n",
      "samples shape: (52, 2, 52)\n",
      "samples shape: (52, 2, 52)\n",
      "samples shape: (52, 2, 52)\n",
      "samples shape: (52, 2, 52)\n",
      "samples shape: (52, 2, 52)\n",
      "samples shape: (52, 2, 52)\n",
      "samples shape: (52, 2, 52)\n",
      "samples shape: (52, 2, 52)\n",
      "samples shape: (52, 2, 52)\n",
      "samples shape: (52, 2, 52)\n",
      "samples shape: (52, 2, 52)\n",
      "samples shape: (52, 2, 52)\n",
      "samples shape: (52, 2, 52)\n",
      "samples shape: (52, 2, 52)\n",
      "samples shape: (52, 2, 52)\n",
      "samples shape: (52, 2, 52)\n",
      "samples shape: (52, 2, 52)\n",
      "samples shape: (52, 2, 52)\n",
      "samples shape: (52, 2, 52)\n",
      "samples shape: (52, 2, 52)\n",
      "samples shape: (52, 2, 52)\n",
      "samples shape: (52, 2, 52)\n",
      "samples shape: (52, 2, 52)\n",
      "samples shape: (52, 2, 52)\n",
      "samples shape: (52, 2, 52)\n",
      "samples shape: (52, 2, 52)\n",
      "samples shape: (52, 2, 52)\n",
      "samples shape: (52, 2, 52)\n",
      "samples shape: (52, 2, 52)\n",
      "samples shape: (52, 2, 52)\n",
      "samples shape: (52, 2, 52)\n",
      "samples shape: (52, 2, 52)\n",
      "samples shape: (52, 2, 52)\n",
      "36.2 ms ± 8.25 ms per loop (mean ± std. dev. of 7 runs, 10 loops each)\n"
     ]
    }
   ],
   "source": [
    "%timeit bs.get_gibbs_samples(N_iter=1)"
   ]
  },
  {
   "cell_type": "code",
   "execution_count": 169,
   "id": "3da0afa5",
   "metadata": {},
   "outputs": [],
   "source": [
    "mean = np.mean(samples[::10, 0, 1])\n",
    "series = samples[::10, 0, 0]\n",
    "corr = np.correlate(series, series, mode='full')"
   ]
  },
  {
   "cell_type": "code",
   "execution_count": 165,
   "id": "48609dc9",
   "metadata": {},
   "outputs": [
    {
     "data": {
      "text/plain": [
       "[<matplotlib.lines.Line2D at 0x7fdc6d7980d0>]"
      ]
     },
     "execution_count": 165,
     "metadata": {},
     "output_type": "execute_result"
    },
    {
     "data": {
      "image/png": "[encoded data removed]",
      "text/plain": [
       "<Figure size 432x288 with 1 Axes>"
      ]
     },
     "metadata": {
      "needs_background": "light"
     },
     "output_type": "display_data"
    }
   ],
   "source": [
    "plt.plot(corr.real / np.amax(corr.real))"
   ]
  },
  {
   "cell_type": "code",
   "execution_count": 166,
   "id": "1a260547",
   "metadata": {
    "scrolled": true
   },
   "outputs": [
    {
     "data": {
      "text/plain": [
       "[<matplotlib.lines.Line2D at 0x7fdc6d77b050>]"
      ]
     },
     "execution_count": 166,
     "metadata": {},
     "output_type": "execute_result"
    },
    {
     "data": {
      "image/png": "[encoded data removed]",
      "text/plain": [
       "<Figure size 432x288 with 1 Axes>"
      ]
     },
     "metadata": {
      "needs_background": "light"
     },
     "output_type": "display_data"
    }
   ],
   "source": [
    "plt.plot(np.real(series))"
   ]
  },
  {
   "cell_type": "code",
   "execution_count": 170,
   "id": "53b8a9a5",
   "metadata": {},
   "outputs": [
    {
     "data": {
      "text/plain": [
       "[<matplotlib.lines.Line2D at 0x7fdc7998ead0>]"
      ]
     },
     "execution_count": 170,
     "metadata": {},
     "output_type": "execute_result"
    },
    {
     "data": {
      "image/png": "[encoded data removed]",
      "text/plain": [
       "<Figure size 432x288 with 1 Axes>"
      ]
     },
     "metadata": {
      "needs_background": "light"
     },
     "output_type": "display_data"
    }
   ],
   "source": [
    "plt.plot(np.real(series))"
   ]
  },
  {
   "cell_type": "code",
   "execution_count": 347,
   "id": "1ebd00c5",
   "metadata": {},
   "outputs": [
    {
     "data": {
      "text/plain": [
       "(1, 3)"
      ]
     },
     "execution_count": 347,
     "metadata": {},
     "output_type": "execute_result"
    }
   ],
   "source": [
    "mean_samp = np.mean(samples, axis=0)\n",
    "mean_samp.shape"
   ]
  },
  {
   "cell_type": "code",
   "execution_count": 348,
   "id": "5805ff43",
   "metadata": {},
   "outputs": [
    {
     "name": "stdout",
     "output_type": "stream",
     "text": [
      "[[0.00012128-0.00661362j 0.02767323+0.00501539j 0.00944623+0.00113638j]]\n"
     ]
    }
   ],
   "source": [
    "print(mean_samp)"
   ]
  },
  {
   "cell_type": "code",
   "execution_count": 167,
   "id": "cb88dc57",
   "metadata": {},
   "outputs": [
    {
     "data": {
      "text/plain": [
       "array([-14886.6463857])"
      ]
     },
     "execution_count": 167,
     "metadata": {},
     "output_type": "execute_result"
    }
   ],
   "source": [
    "np.unique(np.real([sample[0, 0] for sample in samples]))"
   ]
  },
  {
   "cell_type": "code",
   "execution_count": 172,
   "id": "039eea55",
   "metadata": {},
   "outputs": [
    {
     "name": "stdout",
     "output_type": "stream",
     "text": [
      "12199.55480175167\n"
     ]
    }
   ],
   "source": [
    "print(np.amin([np.real(sample[0, 0]) for sample in samples]))"
   ]
  },
  {
   "cell_type": "code",
   "execution_count": 171,
   "id": "04eece24",
   "metadata": {},
   "outputs": [
    {
     "name": "stderr",
     "output_type": "stream",
     "text": [
      "Casting complex values to real discards the imaginary part\n"
     ]
    },
    {
     "data": {
      "text/plain": [
       "<matplotlib.colorbar.Colorbar at 0x7fcd1260ad90>"
      ]
     },
     "execution_count": 171,
     "metadata": {},
     "output_type": "execute_result"
    },
    {
     "data": {
      "image/png": "[encoded data removed]",
      "text/plain": [
       "<Figure size 432x288 with 2 Axes>"
      ]
     },
     "metadata": {
      "needs_background": "light"
     },
     "output_type": "display_data"
    }
   ],
   "source": [
    "\n",
    "\n",
    "plt.scatter(*bs.skymodel.pos_lmn[:2, :], c=bs.beam_block[:, 1])\n",
    "plt.colorbar()"
   ]
  },
  {
   "cell_type": "code",
   "execution_count": null,
   "id": "095c0bce",
   "metadata": {},
   "outputs": [],
   "source": []
  }
 ],
 "metadata": {
  "kernelspec": {
   "display_name": "Python 3 (ipykernel)",
   "language": "python",
   "name": "python3"
  },
  "language_info": {
   "codemirror_mode": {
    "name": "ipython",
    "version": 3
   },
   "file_extension": ".py",
   "mimetype": "text/x-python",
   "name": "python",
   "nbconvert_exporter": "python",
   "pygments_lexer": "ipython3",
   "version": "3.7.6"
  }
 },
 "nbformat": 4,
 "nbformat_minor": 5
}
